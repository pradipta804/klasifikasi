{
  "nbformat": 4,
  "nbformat_minor": 0,
  "metadata": {
    "kernelspec": {
      "display_name": "Python 3 (system-wide)",
      "language": "python",
      "metadata": {
        "cocalc": {
          "description": "Python 3 programming language",
          "priority": 100,
          "url": "https://www.python.org/"
        }
      },
      "name": "python3"
    },
    "language_info": {
      "codemirror_mode": {
        "name": "ipython",
        "version": 3
      },
      "file_extension": ".py",
      "mimetype": "text/x-python",
      "name": "python",
      "nbconvert_exporter": "python",
      "pygments_lexer": "ipython3",
      "version": "3.6.8"
    },
    "colab": {
      "name": "classify_iris_Pradipta.ipynb",
      "provenance": []
    }
  },
  "cells": [
    {
      "cell_type": "code",
      "metadata": {
        "colab": {
          "base_uri": "https://localhost:8080/"
        },
        "id": "PDB9UOyp8TVw",
        "outputId": "8626869c-7321-491b-dc76-c55f1cc95e15"
      },
      "source": [
        "from google.colab import drive\n",
        "drive.mount('/content/drive')"
      ],
      "execution_count": 1,
      "outputs": [
        {
          "output_type": "stream",
          "text": [
            "Mounted at /content/drive\n"
          ],
          "name": "stdout"
        }
      ]
    },
    {
      "cell_type": "code",
      "metadata": {
        "colab": {
          "base_uri": "https://localhost:8080/"
        },
        "id": "A_uZVJpWDO0u",
        "outputId": "f0abb2d9-cc5f-44b8-cf40-41838974da57"
      },
      "source": [
        "cd /content/drive/MyDrive/Colab Notebooks (1)"
      ],
      "execution_count": null,
      "outputs": [
        {
          "output_type": "stream",
          "text": [
            "[Errno 2] No such file or directory: '/content/drive/MyDrive/Colab Notebooks (1)'\n",
            "/content\n"
          ],
          "name": "stdout"
        }
      ]
    },
    {
      "cell_type": "code",
      "metadata": {
        "id": "1IkPXCwDgRJC"
      },
      "source": [
        "# import the necessary packages\n",
        "from sklearn.neighbors import KNeighborsClassifier\n",
        "from sklearn.naive_bayes import GaussianNB\n",
        "from sklearn.linear_model import LogisticRegression\n",
        "from sklearn.svm import SVC\n",
        "from sklearn.tree import DecisionTreeClassifier\n",
        "from sklearn.ensemble import RandomForestClassifier\n",
        "from sklearn.neural_network import MLPClassifier\n",
        "from sklearn.model_selection import train_test_split\n",
        "from sklearn.metrics import classification_report\n",
        "# from sklearn.datasets import load_iris"
      ],
      "execution_count": 2,
      "outputs": []
    },
    {
      "cell_type": "code",
      "metadata": {
        "id": "3tAnSVBc4lor"
      },
      "source": [
        "# from sklearn.datasets import load_iris\n",
        "import numpy as np\n",
        "import pandas as pd\n",
        "import matplotlib.pyplot as plt"
      ],
      "execution_count": 3,
      "outputs": []
    },
    {
      "cell_type": "code",
      "metadata": {
        "colab": {
          "base_uri": "https://localhost:8080/",
          "height": 204
        },
        "id": "ZLsTWZHS4n3I",
        "outputId": "dfaede89-5599-444c-b6ee-8753a07a3b0f"
      },
      "source": [
        "df = pd.read_csv('/content/drive/MyDrive/Statistik/iris.csv')\n",
        "# df = pd.read_excel(\"xxx.xls\", sheet_name=\"sheet 1\")\n",
        "df.head()"
      ],
      "execution_count": 7,
      "outputs": [
        {
          "output_type": "execute_result",
          "data": {
            "text/html": [
              "<div>\n",
              "<style scoped>\n",
              "    .dataframe tbody tr th:only-of-type {\n",
              "        vertical-align: middle;\n",
              "    }\n",
              "\n",
              "    .dataframe tbody tr th {\n",
              "        vertical-align: top;\n",
              "    }\n",
              "\n",
              "    .dataframe thead th {\n",
              "        text-align: right;\n",
              "    }\n",
              "</style>\n",
              "<table border=\"1\" class=\"dataframe\">\n",
              "  <thead>\n",
              "    <tr style=\"text-align: right;\">\n",
              "      <th></th>\n",
              "      <th>Id</th>\n",
              "      <th>SepalLengthCm</th>\n",
              "      <th>SepalWidthCm</th>\n",
              "      <th>PetalLengthCm</th>\n",
              "      <th>PetalWidthCm</th>\n",
              "      <th>Species</th>\n",
              "    </tr>\n",
              "  </thead>\n",
              "  <tbody>\n",
              "    <tr>\n",
              "      <th>0</th>\n",
              "      <td>1</td>\n",
              "      <td>5.1</td>\n",
              "      <td>3.5</td>\n",
              "      <td>1.4</td>\n",
              "      <td>0.2</td>\n",
              "      <td>Iris-setosa</td>\n",
              "    </tr>\n",
              "    <tr>\n",
              "      <th>1</th>\n",
              "      <td>2</td>\n",
              "      <td>4.9</td>\n",
              "      <td>3.0</td>\n",
              "      <td>1.4</td>\n",
              "      <td>0.2</td>\n",
              "      <td>Iris-setosa</td>\n",
              "    </tr>\n",
              "    <tr>\n",
              "      <th>2</th>\n",
              "      <td>3</td>\n",
              "      <td>4.7</td>\n",
              "      <td>3.2</td>\n",
              "      <td>1.3</td>\n",
              "      <td>0.2</td>\n",
              "      <td>Iris-setosa</td>\n",
              "    </tr>\n",
              "    <tr>\n",
              "      <th>3</th>\n",
              "      <td>4</td>\n",
              "      <td>4.6</td>\n",
              "      <td>3.1</td>\n",
              "      <td>1.5</td>\n",
              "      <td>0.2</td>\n",
              "      <td>Iris-setosa</td>\n",
              "    </tr>\n",
              "    <tr>\n",
              "      <th>4</th>\n",
              "      <td>5</td>\n",
              "      <td>5.0</td>\n",
              "      <td>3.6</td>\n",
              "      <td>1.4</td>\n",
              "      <td>0.2</td>\n",
              "      <td>Iris-setosa</td>\n",
              "    </tr>\n",
              "  </tbody>\n",
              "</table>\n",
              "</div>"
            ],
            "text/plain": [
              "   Id  SepalLengthCm  SepalWidthCm  PetalLengthCm  PetalWidthCm      Species\n",
              "0   1            5.1           3.5            1.4           0.2  Iris-setosa\n",
              "1   2            4.9           3.0            1.4           0.2  Iris-setosa\n",
              "2   3            4.7           3.2            1.3           0.2  Iris-setosa\n",
              "3   4            4.6           3.1            1.5           0.2  Iris-setosa\n",
              "4   5            5.0           3.6            1.4           0.2  Iris-setosa"
            ]
          },
          "metadata": {
            "tags": []
          },
          "execution_count": 7
        }
      ]
    },
    {
      "cell_type": "code",
      "metadata": {
        "id": "_EvzBkNa6wV5",
        "colab": {
          "base_uri": "https://localhost:8080/"
        },
        "outputId": "b643b836-5b10-4a7e-de18-163eb99c3d0c"
      },
      "source": [
        "test_X = df.iloc[0:10,[1,2,3,4]].values\n",
        "print(test_X.shape)"
      ],
      "execution_count": 8,
      "outputs": [
        {
          "output_type": "stream",
          "text": [
            "(10, 4)\n"
          ],
          "name": "stdout"
        }
      ]
    },
    {
      "cell_type": "code",
      "metadata": {
        "id": "vwUdBnpI4fMX"
      },
      "source": [
        "X = df.iloc[:,[1,2,3,4]].values\n",
        "Y = df.iloc[:,[5]].values"
      ],
      "execution_count": 9,
      "outputs": []
    },
    {
      "cell_type": "code",
      "metadata": {
        "id": "KwM9k-xaER1p",
        "colab": {
          "base_uri": "https://localhost:8080/"
        },
        "outputId": "b9b36c4d-ea1b-429e-b359-a5b7115ed86b"
      },
      "source": [
        "print(Y)"
      ],
      "execution_count": 10,
      "outputs": [
        {
          "output_type": "stream",
          "text": [
            "[['Iris-setosa']\n",
            " ['Iris-setosa']\n",
            " ['Iris-setosa']\n",
            " ['Iris-setosa']\n",
            " ['Iris-setosa']\n",
            " ['Iris-setosa']\n",
            " ['Iris-setosa']\n",
            " ['Iris-setosa']\n",
            " ['Iris-setosa']\n",
            " ['Iris-setosa']\n",
            " ['Iris-setosa']\n",
            " ['Iris-setosa']\n",
            " ['Iris-setosa']\n",
            " ['Iris-setosa']\n",
            " ['Iris-setosa']\n",
            " ['Iris-setosa']\n",
            " ['Iris-setosa']\n",
            " ['Iris-setosa']\n",
            " ['Iris-setosa']\n",
            " ['Iris-setosa']\n",
            " ['Iris-setosa']\n",
            " ['Iris-setosa']\n",
            " ['Iris-setosa']\n",
            " ['Iris-setosa']\n",
            " ['Iris-setosa']\n",
            " ['Iris-setosa']\n",
            " ['Iris-setosa']\n",
            " ['Iris-setosa']\n",
            " ['Iris-setosa']\n",
            " ['Iris-setosa']\n",
            " ['Iris-setosa']\n",
            " ['Iris-setosa']\n",
            " ['Iris-setosa']\n",
            " ['Iris-setosa']\n",
            " ['Iris-setosa']\n",
            " ['Iris-setosa']\n",
            " ['Iris-setosa']\n",
            " ['Iris-setosa']\n",
            " ['Iris-setosa']\n",
            " ['Iris-setosa']\n",
            " ['Iris-setosa']\n",
            " ['Iris-setosa']\n",
            " ['Iris-setosa']\n",
            " ['Iris-setosa']\n",
            " ['Iris-setosa']\n",
            " ['Iris-setosa']\n",
            " ['Iris-setosa']\n",
            " ['Iris-setosa']\n",
            " ['Iris-setosa']\n",
            " ['Iris-setosa']\n",
            " ['Iris-versicolor']\n",
            " ['Iris-versicolor']\n",
            " ['Iris-versicolor']\n",
            " ['Iris-versicolor']\n",
            " ['Iris-versicolor']\n",
            " ['Iris-versicolor']\n",
            " ['Iris-versicolor']\n",
            " ['Iris-versicolor']\n",
            " ['Iris-versicolor']\n",
            " ['Iris-versicolor']\n",
            " ['Iris-versicolor']\n",
            " ['Iris-versicolor']\n",
            " ['Iris-versicolor']\n",
            " ['Iris-versicolor']\n",
            " ['Iris-versicolor']\n",
            " ['Iris-versicolor']\n",
            " ['Iris-versicolor']\n",
            " ['Iris-versicolor']\n",
            " ['Iris-versicolor']\n",
            " ['Iris-versicolor']\n",
            " ['Iris-versicolor']\n",
            " ['Iris-versicolor']\n",
            " ['Iris-versicolor']\n",
            " ['Iris-versicolor']\n",
            " ['Iris-versicolor']\n",
            " ['Iris-versicolor']\n",
            " ['Iris-versicolor']\n",
            " ['Iris-versicolor']\n",
            " ['Iris-versicolor']\n",
            " ['Iris-versicolor']\n",
            " ['Iris-versicolor']\n",
            " ['Iris-versicolor']\n",
            " ['Iris-versicolor']\n",
            " ['Iris-versicolor']\n",
            " ['Iris-versicolor']\n",
            " ['Iris-versicolor']\n",
            " ['Iris-versicolor']\n",
            " ['Iris-versicolor']\n",
            " ['Iris-versicolor']\n",
            " ['Iris-versicolor']\n",
            " ['Iris-versicolor']\n",
            " ['Iris-versicolor']\n",
            " ['Iris-versicolor']\n",
            " ['Iris-versicolor']\n",
            " ['Iris-versicolor']\n",
            " ['Iris-versicolor']\n",
            " ['Iris-versicolor']\n",
            " ['Iris-versicolor']\n",
            " ['Iris-versicolor']\n",
            " ['Iris-versicolor']\n",
            " ['Iris-virginica']\n",
            " ['Iris-virginica']\n",
            " ['Iris-virginica']\n",
            " ['Iris-virginica']\n",
            " ['Iris-virginica']\n",
            " ['Iris-virginica']\n",
            " ['Iris-virginica']\n",
            " ['Iris-virginica']\n",
            " ['Iris-virginica']\n",
            " ['Iris-virginica']\n",
            " ['Iris-virginica']\n",
            " ['Iris-virginica']\n",
            " ['Iris-virginica']\n",
            " ['Iris-virginica']\n",
            " ['Iris-virginica']\n",
            " ['Iris-virginica']\n",
            " ['Iris-virginica']\n",
            " ['Iris-virginica']\n",
            " ['Iris-virginica']\n",
            " ['Iris-virginica']\n",
            " ['Iris-virginica']\n",
            " ['Iris-virginica']\n",
            " ['Iris-virginica']\n",
            " ['Iris-virginica']\n",
            " ['Iris-virginica']\n",
            " ['Iris-virginica']\n",
            " ['Iris-virginica']\n",
            " ['Iris-virginica']\n",
            " ['Iris-virginica']\n",
            " ['Iris-virginica']\n",
            " ['Iris-virginica']\n",
            " ['Iris-virginica']\n",
            " ['Iris-virginica']\n",
            " ['Iris-virginica']\n",
            " ['Iris-virginica']\n",
            " ['Iris-virginica']\n",
            " ['Iris-virginica']\n",
            " ['Iris-virginica']\n",
            " ['Iris-virginica']\n",
            " ['Iris-virginica']\n",
            " ['Iris-virginica']\n",
            " ['Iris-virginica']\n",
            " ['Iris-virginica']\n",
            " ['Iris-virginica']\n",
            " ['Iris-virginica']\n",
            " ['Iris-virginica']\n",
            " ['Iris-virginica']\n",
            " ['Iris-virginica']\n",
            " ['Iris-virginica']\n",
            " ['Iris-virginica']]\n"
          ],
          "name": "stdout"
        }
      ]
    },
    {
      "cell_type": "code",
      "metadata": {
        "id": "pIpKU3x85Z5y",
        "colab": {
          "base_uri": "https://localhost:8080/"
        },
        "outputId": "8f5800e6-89a9-4971-c40e-b0a1019e2313"
      },
      "source": [
        "target_names = df['Species'].unique()\n",
        "print(target_names)"
      ],
      "execution_count": 11,
      "outputs": [
        {
          "output_type": "stream",
          "text": [
            "['Iris-setosa' 'Iris-versicolor' 'Iris-virginica']\n"
          ],
          "name": "stdout"
        }
      ]
    },
    {
      "cell_type": "code",
      "metadata": {
        "id": "Y_xTqq4V7q7J",
        "colab": {
          "base_uri": "https://localhost:8080/"
        },
        "outputId": "0b150175-10da-4702-fd3f-3282cc0b5b8b"
      },
      "source": [
        "print(X.shape)\n",
        "print(Y.shape)"
      ],
      "execution_count": 12,
      "outputs": [
        {
          "output_type": "stream",
          "text": [
            "(150, 4)\n",
            "(150, 1)\n"
          ],
          "name": "stdout"
        }
      ]
    },
    {
      "cell_type": "code",
      "metadata": {
        "id": "FLHeiyhI4VCT",
        "colab": {
          "base_uri": "https://localhost:8080/"
        },
        "outputId": "a5563119-2b3a-4fa9-a052-8d1a5fb7544f"
      },
      "source": [
        "(trainX, testX, trainY, testY) = train_test_split(X, Y, random_state=3, test_size=0.2)\n",
        "print(trainX.shape)\n",
        "print(testX.shape)\n",
        "print(trainY.shape)\n",
        "print(testY.shape)"
      ],
      "execution_count": 13,
      "outputs": [
        {
          "output_type": "stream",
          "text": [
            "(120, 4)\n",
            "(30, 4)\n",
            "(120, 1)\n",
            "(30, 1)\n"
          ],
          "name": "stdout"
        }
      ]
    },
    {
      "cell_type": "code",
      "metadata": {
        "id": "l6vqEgqCgRJf"
      },
      "source": [
        "# define the dictionary of models our script can use, where the key\n",
        "# to the dictionary is the name of the model (supplied via command\n",
        "# line argument) and the value is the model itself\n",
        "models = {\n",
        "\t\"knn\": KNeighborsClassifier(n_neighbors=3),\n",
        "\t\"naive_bayes\": GaussianNB(),\n",
        "\t\"logit\": LogisticRegression(solver=\"lbfgs\", multi_class=\"auto\"),\n",
        "\t\"svm\": SVC(kernel=\"rbf\", gamma=\"auto\"),\n",
        "\t\"decision_tree\": DecisionTreeClassifier(),\n",
        "\t\"random_forest\": RandomForestClassifier(n_estimators=100),\n",
        "\t\"mlp\": MLPClassifier()\n",
        "}"
      ],
      "execution_count": 14,
      "outputs": []
    },
    {
      "cell_type": "code",
      "metadata": {
        "id": "UAmEPiyMgRJm",
        "colab": {
          "base_uri": "https://localhost:8080/"
        },
        "outputId": "33dad721-6f51-46b1-aa59-d580505d23a4"
      },
      "source": [
        "# train the model\n",
        "print(\"[INFO] using '{}' model\".format(\"knn\"))\n",
        "model = models[\"knn\"]\n",
        "model.fit(trainX, trainY)"
      ],
      "execution_count": 15,
      "outputs": [
        {
          "output_type": "stream",
          "text": [
            "[INFO] using 'knn' model\n"
          ],
          "name": "stdout"
        },
        {
          "output_type": "stream",
          "text": [
            "/usr/local/lib/python3.7/dist-packages/ipykernel_launcher.py:4: DataConversionWarning: A column-vector y was passed when a 1d array was expected. Please change the shape of y to (n_samples, ), for example using ravel().\n",
            "  after removing the cwd from sys.path.\n"
          ],
          "name": "stderr"
        },
        {
          "output_type": "execute_result",
          "data": {
            "text/plain": [
              "KNeighborsClassifier(algorithm='auto', leaf_size=30, metric='minkowski',\n",
              "                     metric_params=None, n_jobs=None, n_neighbors=3, p=2,\n",
              "                     weights='uniform')"
            ]
          },
          "metadata": {
            "tags": []
          },
          "execution_count": 15
        }
      ]
    },
    {
      "cell_type": "code",
      "metadata": {
        "id": "pMst7JNbgRJo",
        "colab": {
          "base_uri": "https://localhost:8080/"
        },
        "outputId": "ea2d7669-7bfd-4194-9eab-17c74ba26c69"
      },
      "source": [
        "# make predictions on our data and show a classification report\n",
        "print(\"[INFO] evaluating...\")\n",
        "predictions = model.predict(testX)\n",
        "print(predictions)"
      ],
      "execution_count": 16,
      "outputs": [
        {
          "output_type": "stream",
          "text": [
            "[INFO] evaluating...\n",
            "['Iris-setosa' 'Iris-setosa' 'Iris-setosa' 'Iris-setosa' 'Iris-setosa'\n",
            " 'Iris-virginica' 'Iris-versicolor' 'Iris-setosa' 'Iris-virginica'\n",
            " 'Iris-versicolor' 'Iris-versicolor' 'Iris-setosa' 'Iris-versicolor'\n",
            " 'Iris-versicolor' 'Iris-virginica' 'Iris-setosa' 'Iris-virginica'\n",
            " 'Iris-virginica' 'Iris-virginica' 'Iris-setosa' 'Iris-virginica'\n",
            " 'Iris-virginica' 'Iris-virginica' 'Iris-versicolor' 'Iris-setosa'\n",
            " 'Iris-virginica' 'Iris-virginica' 'Iris-versicolor' 'Iris-versicolor'\n",
            " 'Iris-versicolor']\n"
          ],
          "name": "stdout"
        }
      ]
    },
    {
      "cell_type": "code",
      "metadata": {
        "id": "Puym9l3iF4LO",
        "colab": {
          "base_uri": "https://localhost:8080/"
        },
        "outputId": "c6520798-507a-4486-f749-3c23ac67bbb6"
      },
      "source": [
        "print(classification_report(testY, predictions,\n",
        "\ttarget_names=target_names))"
      ],
      "execution_count": 17,
      "outputs": [
        {
          "output_type": "stream",
          "text": [
            "                 precision    recall  f1-score   support\n",
            "\n",
            "    Iris-setosa       1.00      1.00      1.00        10\n",
            "Iris-versicolor       1.00      0.90      0.95        10\n",
            " Iris-virginica       0.91      1.00      0.95        10\n",
            "\n",
            "       accuracy                           0.97        30\n",
            "      macro avg       0.97      0.97      0.97        30\n",
            "   weighted avg       0.97      0.97      0.97        30\n",
            "\n"
          ],
          "name": "stdout"
        }
      ]
    },
    {
      "cell_type": "code",
      "metadata": {
        "id": "KaVoaNHOgRJu",
        "colab": {
          "base_uri": "https://localhost:8080/"
        },
        "outputId": "19f035e1-57b5-4f16-db31-b0efb89703ad"
      },
      "source": [
        "# train the model\n",
        "print(\"[INFO] using '{}' model\".format(\"naive_bayes\"))\n",
        "model = models[\"naive_bayes\"]\n",
        "model.fit(trainX, trainY)"
      ],
      "execution_count": 18,
      "outputs": [
        {
          "output_type": "stream",
          "text": [
            "[INFO] using 'naive_bayes' model\n"
          ],
          "name": "stdout"
        },
        {
          "output_type": "stream",
          "text": [
            "/usr/local/lib/python3.7/dist-packages/sklearn/naive_bayes.py:206: DataConversionWarning: A column-vector y was passed when a 1d array was expected. Please change the shape of y to (n_samples, ), for example using ravel().\n",
            "  y = column_or_1d(y, warn=True)\n"
          ],
          "name": "stderr"
        },
        {
          "output_type": "execute_result",
          "data": {
            "text/plain": [
              "GaussianNB(priors=None, var_smoothing=1e-09)"
            ]
          },
          "metadata": {
            "tags": []
          },
          "execution_count": 18
        }
      ]
    },
    {
      "cell_type": "code",
      "metadata": {
        "id": "mcB3GEAGgRJw",
        "colab": {
          "base_uri": "https://localhost:8080/"
        },
        "outputId": "11c73711-dc5e-4c38-a9df-dc926e2749d1"
      },
      "source": [
        "# make predictions on our data and show a classification report\n",
        "print(\"[INFO] evaluating...\")\n",
        "predictions = model.predict(testX)\n",
        "print(classification_report(testY, predictions,\n",
        "\ttarget_names=target_names))"
      ],
      "execution_count": 19,
      "outputs": [
        {
          "output_type": "stream",
          "text": [
            "[INFO] evaluating...\n",
            "                 precision    recall  f1-score   support\n",
            "\n",
            "    Iris-setosa       1.00      1.00      1.00        10\n",
            "Iris-versicolor       0.91      1.00      0.95        10\n",
            " Iris-virginica       1.00      0.90      0.95        10\n",
            "\n",
            "       accuracy                           0.97        30\n",
            "      macro avg       0.97      0.97      0.97        30\n",
            "   weighted avg       0.97      0.97      0.97        30\n",
            "\n"
          ],
          "name": "stdout"
        }
      ]
    },
    {
      "cell_type": "code",
      "metadata": {
        "id": "Ag3ekIj7gRJx",
        "colab": {
          "base_uri": "https://localhost:8080/"
        },
        "outputId": "d8481324-7f1d-42e4-b68f-3093db16e61e"
      },
      "source": [
        "# train the model\n",
        "print(\"[INFO] using '{}' model\".format(\"logit\"))\n",
        "model = models[\"logit\"]\n",
        "model.fit(trainX, trainY)"
      ],
      "execution_count": 20,
      "outputs": [
        {
          "output_type": "stream",
          "text": [
            "[INFO] using 'logit' model\n"
          ],
          "name": "stdout"
        },
        {
          "output_type": "stream",
          "text": [
            "/usr/local/lib/python3.7/dist-packages/sklearn/utils/validation.py:760: DataConversionWarning: A column-vector y was passed when a 1d array was expected. Please change the shape of y to (n_samples, ), for example using ravel().\n",
            "  y = column_or_1d(y, warn=True)\n",
            "/usr/local/lib/python3.7/dist-packages/sklearn/linear_model/_logistic.py:940: ConvergenceWarning: lbfgs failed to converge (status=1):\n",
            "STOP: TOTAL NO. of ITERATIONS REACHED LIMIT.\n",
            "\n",
            "Increase the number of iterations (max_iter) or scale the data as shown in:\n",
            "    https://scikit-learn.org/stable/modules/preprocessing.html\n",
            "Please also refer to the documentation for alternative solver options:\n",
            "    https://scikit-learn.org/stable/modules/linear_model.html#logistic-regression\n",
            "  extra_warning_msg=_LOGISTIC_SOLVER_CONVERGENCE_MSG)\n"
          ],
          "name": "stderr"
        },
        {
          "output_type": "execute_result",
          "data": {
            "text/plain": [
              "LogisticRegression(C=1.0, class_weight=None, dual=False, fit_intercept=True,\n",
              "                   intercept_scaling=1, l1_ratio=None, max_iter=100,\n",
              "                   multi_class='auto', n_jobs=None, penalty='l2',\n",
              "                   random_state=None, solver='lbfgs', tol=0.0001, verbose=0,\n",
              "                   warm_start=False)"
            ]
          },
          "metadata": {
            "tags": []
          },
          "execution_count": 20
        }
      ]
    },
    {
      "cell_type": "code",
      "metadata": {
        "id": "MZ_5q-Y6gRJz",
        "colab": {
          "base_uri": "https://localhost:8080/"
        },
        "outputId": "e10515a2-7f95-4c04-a477-283c68810638"
      },
      "source": [
        "# make predictions on our data and show a classification report\n",
        "print(\"[INFO] evaluating...\")\n",
        "predictions = model.predict(testX)\n",
        "print(classification_report(testY, predictions,\n",
        "\ttarget_names=target_names))"
      ],
      "execution_count": 21,
      "outputs": [
        {
          "output_type": "stream",
          "text": [
            "[INFO] evaluating...\n",
            "                 precision    recall  f1-score   support\n",
            "\n",
            "    Iris-setosa       1.00      1.00      1.00        10\n",
            "Iris-versicolor       1.00      1.00      1.00        10\n",
            " Iris-virginica       1.00      1.00      1.00        10\n",
            "\n",
            "       accuracy                           1.00        30\n",
            "      macro avg       1.00      1.00      1.00        30\n",
            "   weighted avg       1.00      1.00      1.00        30\n",
            "\n"
          ],
          "name": "stdout"
        }
      ]
    },
    {
      "cell_type": "code",
      "metadata": {
        "id": "YpMbga3dgRJz",
        "colab": {
          "base_uri": "https://localhost:8080/"
        },
        "outputId": "50462837-3fb5-481d-bb4b-507569f40e33"
      },
      "source": [
        "# train the model\n",
        "print(\"[INFO] using '{}' model\".format(\"svm\"))\n",
        "model = models[\"svm\"]\n",
        "model.fit(trainX, trainY)"
      ],
      "execution_count": 22,
      "outputs": [
        {
          "output_type": "stream",
          "text": [
            "[INFO] using 'svm' model\n"
          ],
          "name": "stdout"
        },
        {
          "output_type": "stream",
          "text": [
            "/usr/local/lib/python3.7/dist-packages/sklearn/utils/validation.py:760: DataConversionWarning: A column-vector y was passed when a 1d array was expected. Please change the shape of y to (n_samples, ), for example using ravel().\n",
            "  y = column_or_1d(y, warn=True)\n"
          ],
          "name": "stderr"
        },
        {
          "output_type": "execute_result",
          "data": {
            "text/plain": [
              "SVC(C=1.0, break_ties=False, cache_size=200, class_weight=None, coef0=0.0,\n",
              "    decision_function_shape='ovr', degree=3, gamma='auto', kernel='rbf',\n",
              "    max_iter=-1, probability=False, random_state=None, shrinking=True,\n",
              "    tol=0.001, verbose=False)"
            ]
          },
          "metadata": {
            "tags": []
          },
          "execution_count": 22
        }
      ]
    },
    {
      "cell_type": "code",
      "metadata": {
        "id": "Ouv_k7vsgRJ0",
        "colab": {
          "base_uri": "https://localhost:8080/"
        },
        "outputId": "d9ee26b5-137f-4772-d32f-389a59e12d7a"
      },
      "source": [
        "# make predictions on our data and show a classification report\n",
        "print(\"[INFO] evaluating...\")\n",
        "predictions = model.predict(testX)\n",
        "print(classification_report(testY, predictions,\n",
        "\ttarget_names=target_names))"
      ],
      "execution_count": 23,
      "outputs": [
        {
          "output_type": "stream",
          "text": [
            "[INFO] evaluating...\n",
            "                 precision    recall  f1-score   support\n",
            "\n",
            "    Iris-setosa       1.00      1.00      1.00        10\n",
            "Iris-versicolor       1.00      1.00      1.00        10\n",
            " Iris-virginica       1.00      1.00      1.00        10\n",
            "\n",
            "       accuracy                           1.00        30\n",
            "      macro avg       1.00      1.00      1.00        30\n",
            "   weighted avg       1.00      1.00      1.00        30\n",
            "\n"
          ],
          "name": "stdout"
        }
      ]
    },
    {
      "cell_type": "code",
      "metadata": {
        "id": "hl-fW3p9gRJ2",
        "colab": {
          "base_uri": "https://localhost:8080/"
        },
        "outputId": "c2717595-4999-47b3-f6e0-91eb15f89525"
      },
      "source": [
        "# train the model\n",
        "print(\"[INFO] using '{}' model\".format(\"decision_tree\"))\n",
        "model = models[\"decision_tree\"]\n",
        "model.fit(trainX, trainY)"
      ],
      "execution_count": 24,
      "outputs": [
        {
          "output_type": "stream",
          "text": [
            "[INFO] using 'decision_tree' model\n"
          ],
          "name": "stdout"
        },
        {
          "output_type": "execute_result",
          "data": {
            "text/plain": [
              "DecisionTreeClassifier(ccp_alpha=0.0, class_weight=None, criterion='gini',\n",
              "                       max_depth=None, max_features=None, max_leaf_nodes=None,\n",
              "                       min_impurity_decrease=0.0, min_impurity_split=None,\n",
              "                       min_samples_leaf=1, min_samples_split=2,\n",
              "                       min_weight_fraction_leaf=0.0, presort='deprecated',\n",
              "                       random_state=None, splitter='best')"
            ]
          },
          "metadata": {
            "tags": []
          },
          "execution_count": 24
        }
      ]
    },
    {
      "cell_type": "code",
      "metadata": {
        "id": "SM2l7Dl4gRJ4",
        "colab": {
          "base_uri": "https://localhost:8080/"
        },
        "outputId": "10b11eef-ab11-4c20-cad9-b1bef72a054e"
      },
      "source": [
        "# make predictions on our data and show a classification report\n",
        "print(\"[INFO] evaluating...\")\n",
        "predictions = model.predict(testX)\n",
        "print(classification_report(testY, predictions,\n",
        "\ttarget_names=target_names))"
      ],
      "execution_count": 25,
      "outputs": [
        {
          "output_type": "stream",
          "text": [
            "[INFO] evaluating...\n",
            "                 precision    recall  f1-score   support\n",
            "\n",
            "    Iris-setosa       1.00      1.00      1.00        10\n",
            "Iris-versicolor       1.00      1.00      1.00        10\n",
            " Iris-virginica       1.00      1.00      1.00        10\n",
            "\n",
            "       accuracy                           1.00        30\n",
            "      macro avg       1.00      1.00      1.00        30\n",
            "   weighted avg       1.00      1.00      1.00        30\n",
            "\n"
          ],
          "name": "stdout"
        }
      ]
    },
    {
      "cell_type": "code",
      "metadata": {
        "id": "l1Qtpf0UgRJ5",
        "colab": {
          "base_uri": "https://localhost:8080/"
        },
        "outputId": "a3c9ae58-af62-4436-d6a6-f7b1053ed36e"
      },
      "source": [
        "# train the model\n",
        "print(\"[INFO] using '{}' model\".format(\"random_forest\"))\n",
        "model = models[\"random_forest\"]\n",
        "model.fit(trainX, trainY)"
      ],
      "execution_count": 26,
      "outputs": [
        {
          "output_type": "stream",
          "text": [
            "[INFO] using 'random_forest' model\n"
          ],
          "name": "stdout"
        },
        {
          "output_type": "stream",
          "text": [
            "/usr/local/lib/python3.7/dist-packages/ipykernel_launcher.py:4: DataConversionWarning: A column-vector y was passed when a 1d array was expected. Please change the shape of y to (n_samples,), for example using ravel().\n",
            "  after removing the cwd from sys.path.\n"
          ],
          "name": "stderr"
        },
        {
          "output_type": "execute_result",
          "data": {
            "text/plain": [
              "RandomForestClassifier(bootstrap=True, ccp_alpha=0.0, class_weight=None,\n",
              "                       criterion='gini', max_depth=None, max_features='auto',\n",
              "                       max_leaf_nodes=None, max_samples=None,\n",
              "                       min_impurity_decrease=0.0, min_impurity_split=None,\n",
              "                       min_samples_leaf=1, min_samples_split=2,\n",
              "                       min_weight_fraction_leaf=0.0, n_estimators=100,\n",
              "                       n_jobs=None, oob_score=False, random_state=None,\n",
              "                       verbose=0, warm_start=False)"
            ]
          },
          "metadata": {
            "tags": []
          },
          "execution_count": 26
        }
      ]
    },
    {
      "cell_type": "code",
      "metadata": {
        "id": "fohWRtxcgRKA",
        "colab": {
          "base_uri": "https://localhost:8080/"
        },
        "outputId": "cc8f0578-07cf-4436-dfe8-aa12aac937b5"
      },
      "source": [
        "# make predictions on our data and show a classification report\n",
        "print(\"[INFO] evaluating...\")\n",
        "predictions = model.predict(testX)\n",
        "print(classification_report(testY, predictions,\n",
        "\ttarget_names=target_names))"
      ],
      "execution_count": 27,
      "outputs": [
        {
          "output_type": "stream",
          "text": [
            "[INFO] evaluating...\n",
            "                 precision    recall  f1-score   support\n",
            "\n",
            "    Iris-setosa       1.00      1.00      1.00        10\n",
            "Iris-versicolor       1.00      1.00      1.00        10\n",
            " Iris-virginica       1.00      1.00      1.00        10\n",
            "\n",
            "       accuracy                           1.00        30\n",
            "      macro avg       1.00      1.00      1.00        30\n",
            "   weighted avg       1.00      1.00      1.00        30\n",
            "\n"
          ],
          "name": "stdout"
        }
      ]
    },
    {
      "cell_type": "code",
      "metadata": {
        "id": "QNdRh3_8gRKB",
        "colab": {
          "base_uri": "https://localhost:8080/"
        },
        "outputId": "76403c05-2e1f-4fbf-b58e-f311a71310cb"
      },
      "source": [
        "# train the model\n",
        "print(\"[INFO] using '{}' model\".format(\"mlp\"))\n",
        "model = models[\"mlp\"]\n",
        "model.fit(trainX, trainY)"
      ],
      "execution_count": 28,
      "outputs": [
        {
          "output_type": "stream",
          "text": [
            "[INFO] using 'mlp' model\n"
          ],
          "name": "stdout"
        },
        {
          "output_type": "stream",
          "text": [
            "/usr/local/lib/python3.7/dist-packages/sklearn/neural_network/_multilayer_perceptron.py:934: DataConversionWarning: A column-vector y was passed when a 1d array was expected. Please change the shape of y to (n_samples, ), for example using ravel().\n",
            "  y = column_or_1d(y, warn=True)\n",
            "/usr/local/lib/python3.7/dist-packages/sklearn/neural_network/_multilayer_perceptron.py:571: ConvergenceWarning: Stochastic Optimizer: Maximum iterations (200) reached and the optimization hasn't converged yet.\n",
            "  % self.max_iter, ConvergenceWarning)\n"
          ],
          "name": "stderr"
        },
        {
          "output_type": "execute_result",
          "data": {
            "text/plain": [
              "MLPClassifier(activation='relu', alpha=0.0001, batch_size='auto', beta_1=0.9,\n",
              "              beta_2=0.999, early_stopping=False, epsilon=1e-08,\n",
              "              hidden_layer_sizes=(100,), learning_rate='constant',\n",
              "              learning_rate_init=0.001, max_fun=15000, max_iter=200,\n",
              "              momentum=0.9, n_iter_no_change=10, nesterovs_momentum=True,\n",
              "              power_t=0.5, random_state=None, shuffle=True, solver='adam',\n",
              "              tol=0.0001, validation_fraction=0.1, verbose=False,\n",
              "              warm_start=False)"
            ]
          },
          "metadata": {
            "tags": []
          },
          "execution_count": 28
        }
      ]
    },
    {
      "cell_type": "code",
      "metadata": {
        "id": "dtSKouEIgRKC",
        "colab": {
          "base_uri": "https://localhost:8080/"
        },
        "outputId": "467571c0-3b78-4eff-de71-58b8b33554fd"
      },
      "source": [
        "# make predictions on our data and show a classification report\n",
        "print(\"[INFO] evaluating...\")\n",
        "predictions = model.predict(testX)\n",
        "print(classification_report(testY, predictions,\n",
        "\ttarget_names=target_names))"
      ],
      "execution_count": 29,
      "outputs": [
        {
          "output_type": "stream",
          "text": [
            "[INFO] evaluating...\n",
            "                 precision    recall  f1-score   support\n",
            "\n",
            "    Iris-setosa       1.00      1.00      1.00        10\n",
            "Iris-versicolor       1.00      0.90      0.95        10\n",
            " Iris-virginica       0.91      1.00      0.95        10\n",
            "\n",
            "       accuracy                           0.97        30\n",
            "      macro avg       0.97      0.97      0.97        30\n",
            "   weighted avg       0.97      0.97      0.97        30\n",
            "\n"
          ],
          "name": "stdout"
        }
      ]
    },
    {
      "cell_type": "markdown",
      "metadata": {
        "id": "ExhmHl7Q5t7_"
      },
      "source": [
        "# **Artificial Neural Network**"
      ]
    },
    {
      "cell_type": "code",
      "metadata": {
        "id": "Eu7aptJJgRKE"
      },
      "source": [
        "# import the necessary packages\n",
        "from keras.models import Sequential\n",
        "# from keras.layers.convolutional import Conv2D\n",
        "# from keras.layers.convolutional import MaxPooling2D\n",
        "from keras.layers.core import Activation\n",
        "# from keras.layers.core import Flatten\n",
        "from keras.layers.core import Dense\n",
        "from keras.optimizers import Adam\n",
        "from sklearn.preprocessing import LabelBinarizer\n",
        "# from sklearn.model_selection import train_test_split\n",
        "# from sklearn.metrics import classification_report\n",
        "# from PIL import Image\n",
        "# from imutils import paths\n",
        "# import numpy as np\n",
        "# import os"
      ],
      "execution_count": null,
      "outputs": []
    },
    {
      "cell_type": "code",
      "metadata": {
        "id": "SH24XaG3AnPu"
      },
      "source": [
        "Y"
      ],
      "execution_count": null,
      "outputs": []
    },
    {
      "cell_type": "code",
      "metadata": {
        "id": "897YXSjv55ZC"
      },
      "source": [
        "# encode the labels, converting them from strings to integers\n",
        "lb = LabelBinarizer()\n",
        "labels = lb.fit_transform(Y)\n",
        "print(labels)"
      ],
      "execution_count": null,
      "outputs": []
    },
    {
      "cell_type": "code",
      "metadata": {
        "id": "_pcXvXBq59PY"
      },
      "source": [
        "(trainX, testX, trainY, testY) = train_test_split(X,\tnp.array(labels), test_size=0.2)\n",
        "print(trainX.shape)\n",
        "print(testX.shape)\n",
        "print(trainY.shape)\n",
        "print(testY.shape)"
      ],
      "execution_count": null,
      "outputs": []
    },
    {
      "cell_type": "code",
      "metadata": {
        "id": "73GGlwI76EkY"
      },
      "source": [
        "#model ANN\n",
        "\n",
        "model = Sequential(\n",
        "    [\n",
        "        Dense(32, activation=\"relu\", input_shape=(4,)), #hidden layer 1\n",
        "        Dense(16, activation=\"relu\"), #hidden layer 2\n",
        "        # Dense(16, activation=\"relu\"),\n",
        "        # Dense(8, activation=\"relu\"),\n",
        "        Dense(3, activation = \"softmax\"),\n",
        "    ]\n",
        ")"
      ],
      "execution_count": null,
      "outputs": []
    },
    {
      "cell_type": "code",
      "metadata": {
        "id": "oWptPSzZ6V-_"
      },
      "source": [
        "model.summary()"
      ],
      "execution_count": null,
      "outputs": []
    },
    {
      "cell_type": "code",
      "metadata": {
        "id": "-IoP9cED60mA"
      },
      "source": [
        "# train the model using the Adam optimizer\n",
        "print(\"[INFO] training network...\")\n",
        "opt = Adam(lr=1e-3, decay=1e-3 / 50)\n",
        "model.compile(loss=\"categorical_crossentropy\", optimizer=opt, #2 kelas --> binary_crossentropy\n",
        "\tmetrics=[\"accuracy\"])\n",
        "H = model.fit(trainX, trainY, validation_data=(testX, testY), epochs=20, batch_size=20)"
      ],
      "execution_count": null,
      "outputs": []
    },
    {
      "cell_type": "code",
      "metadata": {
        "id": "-SOALOs_6-IY"
      },
      "source": [
        "import matplotlib.pyplot as plt\n",
        "\n",
        "print(H.history.keys())\n",
        "# summarize history for accuracy\n",
        "plt.plot(H.history['accuracy'])\n",
        "plt.plot(H.history['val_accuracy'])\n",
        "plt.title('model accuracy')\n",
        "plt.ylabel('accuracy')\n",
        "plt.xlabel('epoch')\n",
        "plt.legend(['train', 'test'], loc='upper left')\n",
        "plt.show()\n",
        "# summarize history for loss\n",
        "plt.plot(H.history['loss'])\n",
        "plt.plot(H.history['val_loss'])\n",
        "plt.title('model loss')\n",
        "plt.ylabel('loss')\n",
        "plt.xlabel('epoch')\n",
        "plt.legend(['train', 'test'], loc='upper left')\n",
        "plt.show()"
      ],
      "execution_count": null,
      "outputs": []
    },
    {
      "cell_type": "code",
      "metadata": {
        "id": "MyjLvi1l7CsX"
      },
      "source": [
        ""
      ],
      "execution_count": null,
      "outputs": []
    }
  ]
}